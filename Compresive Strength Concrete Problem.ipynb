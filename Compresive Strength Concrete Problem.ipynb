{
 "cells": [
  {
   "cell_type": "markdown",
   "metadata": {
    "id": "CgPkafcBClHA"
   },
   "source": [
    "#Importing Libraries"
   ]
  },
  {
   "cell_type": "code",
   "execution_count": 1,
   "metadata": {
    "id": "NipDpuvkCmi6"
   },
   "outputs": [],
   "source": [
    "import pandas as pd\n",
    "import numpy as np\n",
    "import matplotlib.pyplot as plt"
   ]
  },
  {
   "cell_type": "markdown",
   "metadata": {
    "id": "UxC9ci-KDQoW"
   },
   "source": [
    "#Uploading Datasets"
   ]
  },
  {
   "cell_type": "code",
   "execution_count": 2,
   "metadata": {
    "id": "B_vpinNiCxTc"
   },
   "outputs": [],
   "source": [
    "data=pd.read_csv(\".\\ML_Datasets-main\\compresive_strength_concrete.csv\")"
   ]
  },
  {
   "cell_type": "code",
   "execution_count": 3,
   "metadata": {
    "colab": {
     "base_uri": "https://localhost:8080/"
    },
    "id": "VcJwnsAHIgRW",
    "outputId": "ae5e6e22-0e87-46ca-b520-c9336626e6df"
   },
   "outputs": [
    {
     "data": {
      "text/plain": [
       "(1030, 9)"
      ]
     },
     "execution_count": 3,
     "metadata": {},
     "output_type": "execute_result"
    }
   ],
   "source": [
    "data.shape"
   ]
  },
  {
   "cell_type": "code",
   "execution_count": 4,
   "metadata": {
    "colab": {
     "base_uri": "https://localhost:8080/",
     "height": 326
    },
    "id": "U0yFP1M6Ikh-",
    "outputId": "769d5d3e-3100-4b3a-b009-cc08487e88a3"
   },
   "outputs": [
    {
     "data": {
      "text/html": [
       "<div>\n",
       "<style scoped>\n",
       "    .dataframe tbody tr th:only-of-type {\n",
       "        vertical-align: middle;\n",
       "    }\n",
       "\n",
       "    .dataframe tbody tr th {\n",
       "        vertical-align: top;\n",
       "    }\n",
       "\n",
       "    .dataframe thead th {\n",
       "        text-align: right;\n",
       "    }\n",
       "</style>\n",
       "<table border=\"1\" class=\"dataframe\">\n",
       "  <thead>\n",
       "    <tr style=\"text-align: right;\">\n",
       "      <th></th>\n",
       "      <th>Cement (component 1)(kg in a m^3 mixture)</th>\n",
       "      <th>Blast Furnace Slag (component 2)(kg in a m^3 mixture)</th>\n",
       "      <th>Fly Ash (component 3)(kg in a m^3 mixture)</th>\n",
       "      <th>Water  (component 4)(kg in a m^3 mixture)</th>\n",
       "      <th>Superplasticizer (component 5)(kg in a m^3 mixture)</th>\n",
       "      <th>Coarse Aggregate  (component 6)(kg in a m^3 mixture)</th>\n",
       "      <th>Fine Aggregate (component 7)(kg in a m^3 mixture)</th>\n",
       "      <th>Age (day)</th>\n",
       "      <th>Concrete compressive strength(MPa, megapascals)</th>\n",
       "    </tr>\n",
       "  </thead>\n",
       "  <tbody>\n",
       "    <tr>\n",
       "      <th>0</th>\n",
       "      <td>540.0</td>\n",
       "      <td>0.0</td>\n",
       "      <td>0.0</td>\n",
       "      <td>162.0</td>\n",
       "      <td>2.5</td>\n",
       "      <td>1040.0</td>\n",
       "      <td>676.0</td>\n",
       "      <td>28</td>\n",
       "      <td>79.99</td>\n",
       "    </tr>\n",
       "    <tr>\n",
       "      <th>1</th>\n",
       "      <td>540.0</td>\n",
       "      <td>0.0</td>\n",
       "      <td>0.0</td>\n",
       "      <td>162.0</td>\n",
       "      <td>2.5</td>\n",
       "      <td>1055.0</td>\n",
       "      <td>676.0</td>\n",
       "      <td>28</td>\n",
       "      <td>61.89</td>\n",
       "    </tr>\n",
       "    <tr>\n",
       "      <th>2</th>\n",
       "      <td>332.5</td>\n",
       "      <td>142.5</td>\n",
       "      <td>0.0</td>\n",
       "      <td>228.0</td>\n",
       "      <td>0.0</td>\n",
       "      <td>932.0</td>\n",
       "      <td>594.0</td>\n",
       "      <td>270</td>\n",
       "      <td>40.27</td>\n",
       "    </tr>\n",
       "    <tr>\n",
       "      <th>3</th>\n",
       "      <td>332.5</td>\n",
       "      <td>142.5</td>\n",
       "      <td>0.0</td>\n",
       "      <td>228.0</td>\n",
       "      <td>0.0</td>\n",
       "      <td>932.0</td>\n",
       "      <td>594.0</td>\n",
       "      <td>365</td>\n",
       "      <td>41.05</td>\n",
       "    </tr>\n",
       "    <tr>\n",
       "      <th>4</th>\n",
       "      <td>198.6</td>\n",
       "      <td>132.4</td>\n",
       "      <td>0.0</td>\n",
       "      <td>192.0</td>\n",
       "      <td>0.0</td>\n",
       "      <td>978.4</td>\n",
       "      <td>825.5</td>\n",
       "      <td>360</td>\n",
       "      <td>44.30</td>\n",
       "    </tr>\n",
       "  </tbody>\n",
       "</table>\n",
       "</div>"
      ],
      "text/plain": [
       "   Cement (component 1)(kg in a m^3 mixture)  \\\n",
       "0                                      540.0   \n",
       "1                                      540.0   \n",
       "2                                      332.5   \n",
       "3                                      332.5   \n",
       "4                                      198.6   \n",
       "\n",
       "   Blast Furnace Slag (component 2)(kg in a m^3 mixture)  \\\n",
       "0                                                0.0       \n",
       "1                                                0.0       \n",
       "2                                              142.5       \n",
       "3                                              142.5       \n",
       "4                                              132.4       \n",
       "\n",
       "   Fly Ash (component 3)(kg in a m^3 mixture)  \\\n",
       "0                                         0.0   \n",
       "1                                         0.0   \n",
       "2                                         0.0   \n",
       "3                                         0.0   \n",
       "4                                         0.0   \n",
       "\n",
       "   Water  (component 4)(kg in a m^3 mixture)  \\\n",
       "0                                      162.0   \n",
       "1                                      162.0   \n",
       "2                                      228.0   \n",
       "3                                      228.0   \n",
       "4                                      192.0   \n",
       "\n",
       "   Superplasticizer (component 5)(kg in a m^3 mixture)  \\\n",
       "0                                                2.5     \n",
       "1                                                2.5     \n",
       "2                                                0.0     \n",
       "3                                                0.0     \n",
       "4                                                0.0     \n",
       "\n",
       "   Coarse Aggregate  (component 6)(kg in a m^3 mixture)  \\\n",
       "0                                             1040.0      \n",
       "1                                             1055.0      \n",
       "2                                              932.0      \n",
       "3                                              932.0      \n",
       "4                                              978.4      \n",
       "\n",
       "   Fine Aggregate (component 7)(kg in a m^3 mixture)  Age (day)  \\\n",
       "0                                              676.0         28   \n",
       "1                                              676.0         28   \n",
       "2                                              594.0        270   \n",
       "3                                              594.0        365   \n",
       "4                                              825.5        360   \n",
       "\n",
       "   Concrete compressive strength(MPa, megapascals)   \n",
       "0                                             79.99  \n",
       "1                                             61.89  \n",
       "2                                             40.27  \n",
       "3                                             41.05  \n",
       "4                                             44.30  "
      ]
     },
     "execution_count": 4,
     "metadata": {},
     "output_type": "execute_result"
    }
   ],
   "source": [
    "data.head()"
   ]
  },
  {
   "cell_type": "code",
   "execution_count": 5,
   "metadata": {},
   "outputs": [
    {
     "data": {
      "text/plain": [
       "Cement (component 1)(kg in a m^3 mixture)                0\n",
       "Blast Furnace Slag (component 2)(kg in a m^3 mixture)    0\n",
       "Fly Ash (component 3)(kg in a m^3 mixture)               0\n",
       "Water  (component 4)(kg in a m^3 mixture)                0\n",
       "Superplasticizer (component 5)(kg in a m^3 mixture)      0\n",
       "Coarse Aggregate  (component 6)(kg in a m^3 mixture)     0\n",
       "Fine Aggregate (component 7)(kg in a m^3 mixture)        0\n",
       "Age (day)                                                0\n",
       "Concrete compressive strength(MPa, megapascals)          0\n",
       "dtype: int64"
      ]
     },
     "execution_count": 5,
     "metadata": {},
     "output_type": "execute_result"
    }
   ],
   "source": [
    "data.isnull().sum()"
   ]
  },
  {
   "cell_type": "code",
   "execution_count": 6,
   "metadata": {},
   "outputs": [
    {
     "data": {
      "text/plain": [
       "(array([], dtype=int64), array([], dtype=int64))"
      ]
     },
     "execution_count": 6,
     "metadata": {},
     "output_type": "execute_result"
    }
   ],
   "source": [
    "np.where(data.applymap(lambda x: x == ''))"
   ]
  },
  {
   "cell_type": "code",
   "execution_count": 7,
   "metadata": {},
   "outputs": [],
   "source": [
    "X_train = data.sample(frac = 0.7, random_state = 123)\n",
    "X_test = data.drop(X_train.index)"
   ]
  },
  {
   "cell_type": "code",
   "execution_count": 8,
   "metadata": {},
   "outputs": [
    {
     "data": {
      "text/html": [
       "<div>\n",
       "<style scoped>\n",
       "    .dataframe tbody tr th:only-of-type {\n",
       "        vertical-align: middle;\n",
       "    }\n",
       "\n",
       "    .dataframe tbody tr th {\n",
       "        vertical-align: top;\n",
       "    }\n",
       "\n",
       "    .dataframe thead th {\n",
       "        text-align: right;\n",
       "    }\n",
       "</style>\n",
       "<table border=\"1\" class=\"dataframe\">\n",
       "  <thead>\n",
       "    <tr style=\"text-align: right;\">\n",
       "      <th></th>\n",
       "      <th>Cement (component 1)(kg in a m^3 mixture)</th>\n",
       "      <th>Blast Furnace Slag (component 2)(kg in a m^3 mixture)</th>\n",
       "      <th>Fly Ash (component 3)(kg in a m^3 mixture)</th>\n",
       "      <th>Water  (component 4)(kg in a m^3 mixture)</th>\n",
       "      <th>Superplasticizer (component 5)(kg in a m^3 mixture)</th>\n",
       "      <th>Coarse Aggregate  (component 6)(kg in a m^3 mixture)</th>\n",
       "      <th>Fine Aggregate (component 7)(kg in a m^3 mixture)</th>\n",
       "      <th>Age (day)</th>\n",
       "      <th>Concrete compressive strength(MPa, megapascals)</th>\n",
       "    </tr>\n",
       "  </thead>\n",
       "  <tbody>\n",
       "    <tr>\n",
       "      <th>134</th>\n",
       "      <td>362.6</td>\n",
       "      <td>189.0</td>\n",
       "      <td>0.0</td>\n",
       "      <td>164.9</td>\n",
       "      <td>11.6</td>\n",
       "      <td>944.7</td>\n",
       "      <td>755.8</td>\n",
       "      <td>28</td>\n",
       "      <td>71.30</td>\n",
       "    </tr>\n",
       "    <tr>\n",
       "      <th>13</th>\n",
       "      <td>190.0</td>\n",
       "      <td>190.0</td>\n",
       "      <td>0.0</td>\n",
       "      <td>228.0</td>\n",
       "      <td>0.0</td>\n",
       "      <td>932.0</td>\n",
       "      <td>670.0</td>\n",
       "      <td>90</td>\n",
       "      <td>42.33</td>\n",
       "    </tr>\n",
       "    <tr>\n",
       "      <th>996</th>\n",
       "      <td>152.6</td>\n",
       "      <td>238.7</td>\n",
       "      <td>0.0</td>\n",
       "      <td>200.0</td>\n",
       "      <td>6.3</td>\n",
       "      <td>1001.8</td>\n",
       "      <td>683.9</td>\n",
       "      <td>28</td>\n",
       "      <td>26.86</td>\n",
       "    </tr>\n",
       "    <tr>\n",
       "      <th>770</th>\n",
       "      <td>349.0</td>\n",
       "      <td>0.0</td>\n",
       "      <td>0.0</td>\n",
       "      <td>192.0</td>\n",
       "      <td>0.0</td>\n",
       "      <td>1047.0</td>\n",
       "      <td>806.0</td>\n",
       "      <td>3</td>\n",
       "      <td>14.99</td>\n",
       "    </tr>\n",
       "    <tr>\n",
       "      <th>937</th>\n",
       "      <td>313.3</td>\n",
       "      <td>0.0</td>\n",
       "      <td>113.0</td>\n",
       "      <td>178.5</td>\n",
       "      <td>8.0</td>\n",
       "      <td>1001.9</td>\n",
       "      <td>688.7</td>\n",
       "      <td>28</td>\n",
       "      <td>36.80</td>\n",
       "    </tr>\n",
       "  </tbody>\n",
       "</table>\n",
       "</div>"
      ],
      "text/plain": [
       "     Cement (component 1)(kg in a m^3 mixture)  \\\n",
       "134                                      362.6   \n",
       "13                                       190.0   \n",
       "996                                      152.6   \n",
       "770                                      349.0   \n",
       "937                                      313.3   \n",
       "\n",
       "     Blast Furnace Slag (component 2)(kg in a m^3 mixture)  \\\n",
       "134                                              189.0       \n",
       "13                                               190.0       \n",
       "996                                              238.7       \n",
       "770                                                0.0       \n",
       "937                                                0.0       \n",
       "\n",
       "     Fly Ash (component 3)(kg in a m^3 mixture)  \\\n",
       "134                                         0.0   \n",
       "13                                          0.0   \n",
       "996                                         0.0   \n",
       "770                                         0.0   \n",
       "937                                       113.0   \n",
       "\n",
       "     Water  (component 4)(kg in a m^3 mixture)  \\\n",
       "134                                      164.9   \n",
       "13                                       228.0   \n",
       "996                                      200.0   \n",
       "770                                      192.0   \n",
       "937                                      178.5   \n",
       "\n",
       "     Superplasticizer (component 5)(kg in a m^3 mixture)  \\\n",
       "134                                               11.6     \n",
       "13                                                 0.0     \n",
       "996                                                6.3     \n",
       "770                                                0.0     \n",
       "937                                                8.0     \n",
       "\n",
       "     Coarse Aggregate  (component 6)(kg in a m^3 mixture)  \\\n",
       "134                                              944.7      \n",
       "13                                               932.0      \n",
       "996                                             1001.8      \n",
       "770                                             1047.0      \n",
       "937                                             1001.9      \n",
       "\n",
       "     Fine Aggregate (component 7)(kg in a m^3 mixture)  Age (day)  \\\n",
       "134                                              755.8         28   \n",
       "13                                               670.0         90   \n",
       "996                                              683.9         28   \n",
       "770                                              806.0          3   \n",
       "937                                              688.7         28   \n",
       "\n",
       "     Concrete compressive strength(MPa, megapascals)   \n",
       "134                                             71.30  \n",
       "13                                              42.33  \n",
       "996                                             26.86  \n",
       "770                                             14.99  \n",
       "937                                             36.80  "
      ]
     },
     "execution_count": 8,
     "metadata": {},
     "output_type": "execute_result"
    }
   ],
   "source": [
    "X_train.head()"
   ]
  },
  {
   "cell_type": "markdown",
   "metadata": {
    "id": "CcvbbUpmJFCi"
   },
   "source": [
    "#Assigning features and target variable"
   ]
  },
  {
   "cell_type": "code",
   "execution_count": 9,
   "metadata": {
    "id": "OTv_VabYIj83"
   },
   "outputs": [],
   "source": [
    "Y_train = X_train.iloc[:,-1]\n",
    "X_train = X_train.iloc[:,0:-1]\n",
    "Y_test = X_test.iloc[:,-1]\n",
    "X_test = X_test.iloc[:,0:-1]"
   ]
  },
  {
   "cell_type": "code",
   "execution_count": 10,
   "metadata": {
    "id": "KHF-Yeo2JTyg"
   },
   "outputs": [],
   "source": [
    "X_mean = X_train.mean()\n",
    "X_train -= X_mean\n",
    "X_std = X_train.std()\n",
    "X_train /= X_std\n",
    "X_test -= X_mean\n",
    "X_test /= X_std"
   ]
  },
  {
   "cell_type": "code",
   "execution_count": 11,
   "metadata": {},
   "outputs": [],
   "source": [
    "Y_mean = Y_train.mean()\n",
    "Y_train -= Y_mean\n",
    "Y_std = Y_train.std()\n",
    "Y_train /= Y_std\n",
    "Y_test -= Y_mean\n",
    "Y_test /= Y_std"
   ]
  },
  {
   "cell_type": "code",
   "execution_count": 12,
   "metadata": {},
   "outputs": [
    {
     "data": {
      "text/plain": [
       "Cement (component 1)(kg in a m^3 mixture)                float64\n",
       "Blast Furnace Slag (component 2)(kg in a m^3 mixture)    float64\n",
       "Fly Ash (component 3)(kg in a m^3 mixture)               float64\n",
       "Water  (component 4)(kg in a m^3 mixture)                float64\n",
       "Superplasticizer (component 5)(kg in a m^3 mixture)      float64\n",
       "Coarse Aggregate  (component 6)(kg in a m^3 mixture)     float64\n",
       "Fine Aggregate (component 7)(kg in a m^3 mixture)        float64\n",
       "Age (day)                                                float64\n",
       "dtype: object"
      ]
     },
     "execution_count": 12,
     "metadata": {},
     "output_type": "execute_result"
    }
   ],
   "source": [
    "X_train.dtypes"
   ]
  },
  {
   "cell_type": "code",
   "execution_count": 13,
   "metadata": {},
   "outputs": [],
   "source": [
    "X_train = X_train.to_numpy()\n",
    "Y_train = Y_train.to_numpy()\n",
    "X_test = X_test.to_numpy()\n",
    "Y_test = Y_test.to_numpy()\n"
   ]
  },
  {
   "cell_type": "markdown",
   "metadata": {
    "id": "Lj_iCk5vL5E7"
   },
   "source": [
    "#Training and testing data splittion"
   ]
  },
  {
   "cell_type": "markdown",
   "metadata": {
    "id": "_LMH3tMeMbXN"
   },
   "source": [
    "#Model selection"
   ]
  },
  {
   "cell_type": "code",
   "execution_count": 14,
   "metadata": {
    "id": "N71E3GgCMTCO"
   },
   "outputs": [],
   "source": [
    "from tensorflow.keras import layers as L\n",
    "from tensorflow.keras import models as M"
   ]
  },
  {
   "cell_type": "code",
   "execution_count": 15,
   "metadata": {
    "id": "PZIj7pgIMhcg"
   },
   "outputs": [],
   "source": [
    "network = M.Sequential()"
   ]
  },
  {
   "cell_type": "code",
   "execution_count": 16,
   "metadata": {
    "id": "jcIypzdFMrDX"
   },
   "outputs": [],
   "source": [
    "network.add(L.Dense(128,activation=\"relu\",input_shape=(X_train.shape[1],)))"
   ]
  },
  {
   "cell_type": "code",
   "execution_count": 17,
   "metadata": {
    "id": "gl8qko4FM3j4"
   },
   "outputs": [],
   "source": [
    "network.add(L.Dense(64,activation=\"relu\"))"
   ]
  },
  {
   "cell_type": "code",
   "execution_count": 18,
   "metadata": {
    "id": "LQ2VEXd9M8Uw"
   },
   "outputs": [],
   "source": [
    "network.add(L.Dense(32,activation=\"relu\"))"
   ]
  },
  {
   "cell_type": "code",
   "execution_count": 19,
   "metadata": {
    "id": "yWUmN_KvNCno"
   },
   "outputs": [],
   "source": [
    "network.add(L.Dense(1))"
   ]
  },
  {
   "cell_type": "code",
   "execution_count": 20,
   "metadata": {
    "id": "zSyeoyk0Nsa2"
   },
   "outputs": [],
   "source": [
    "network.compile(optimizer=\"rmsprop\",loss=[\"mse\"],metrics=[\"mae\"])"
   ]
  },
  {
   "cell_type": "code",
   "execution_count": 21,
   "metadata": {
    "colab": {
     "base_uri": "https://localhost:8080/"
    },
    "id": "E8cCCFviOKuF",
    "outputId": "c6eebdfa-f576-4106-ec4b-38cba2572df0"
   },
   "outputs": [
    {
     "name": "stdout",
     "output_type": "stream",
     "text": [
      "Epoch 1/200\n",
      "32/32 [==============================] - 2s 42ms/step - loss: 0.8191 - mae: 0.6924 - val_loss: 0.3794 - val_mae: 0.4811\n",
      "Epoch 2/200\n",
      "32/32 [==============================] - 0s 3ms/step - loss: 0.3190 - mae: 0.4343 - val_loss: 0.3059 - val_mae: 0.4102\n",
      "Epoch 3/200\n",
      "32/32 [==============================] - 0s 3ms/step - loss: 0.2338 - mae: 0.3781 - val_loss: 0.2623 - val_mae: 0.3936\n",
      "Epoch 4/200\n",
      "32/32 [==============================] - 0s 3ms/step - loss: 0.1797 - mae: 0.3267 - val_loss: 0.2413 - val_mae: 0.3808\n",
      "Epoch 5/200\n",
      "32/32 [==============================] - 0s 3ms/step - loss: 0.1834 - mae: 0.3354 - val_loss: 0.2242 - val_mae: 0.3533\n",
      "Epoch 6/200\n",
      "32/32 [==============================] - 0s 3ms/step - loss: 0.1305 - mae: 0.2903 - val_loss: 0.2236 - val_mae: 0.3500\n",
      "Epoch 7/200\n",
      "32/32 [==============================] - 0s 3ms/step - loss: 0.1165 - mae: 0.2676 - val_loss: 0.1981 - val_mae: 0.3255\n",
      "Epoch 8/200\n",
      "32/32 [==============================] - 0s 3ms/step - loss: 0.1221 - mae: 0.2669 - val_loss: 0.1909 - val_mae: 0.3368\n",
      "Epoch 9/200\n",
      "32/32 [==============================] - 0s 3ms/step - loss: 0.1011 - mae: 0.2504 - val_loss: 0.1849 - val_mae: 0.3237\n",
      "Epoch 10/200\n",
      "32/32 [==============================] - 0s 3ms/step - loss: 0.0869 - mae: 0.2285 - val_loss: 0.1986 - val_mae: 0.3328\n",
      "Epoch 11/200\n",
      "32/32 [==============================] - 0s 3ms/step - loss: 0.0948 - mae: 0.2406 - val_loss: 0.1700 - val_mae: 0.3012\n",
      "Epoch 12/200\n",
      "32/32 [==============================] - 0s 3ms/step - loss: 0.0766 - mae: 0.2121 - val_loss: 0.1756 - val_mae: 0.3101\n",
      "Epoch 13/200\n",
      "32/32 [==============================] - 0s 3ms/step - loss: 0.0966 - mae: 0.2393 - val_loss: 0.2055 - val_mae: 0.3343\n",
      "Epoch 14/200\n",
      "32/32 [==============================] - 0s 3ms/step - loss: 0.0822 - mae: 0.2203 - val_loss: 0.1577 - val_mae: 0.2937\n",
      "Epoch 15/200\n",
      "32/32 [==============================] - 0s 4ms/step - loss: 0.0713 - mae: 0.2104 - val_loss: 0.2418 - val_mae: 0.3651\n",
      "Epoch 16/200\n",
      "32/32 [==============================] - 0s 4ms/step - loss: 0.0914 - mae: 0.2268 - val_loss: 0.1738 - val_mae: 0.3276\n",
      "Epoch 17/200\n",
      "32/32 [==============================] - 0s 3ms/step - loss: 0.0737 - mae: 0.2157 - val_loss: 0.1845 - val_mae: 0.3377\n",
      "Epoch 18/200\n",
      "32/32 [==============================] - 0s 3ms/step - loss: 0.0707 - mae: 0.2049 - val_loss: 0.1728 - val_mae: 0.3153\n",
      "Epoch 19/200\n",
      "32/32 [==============================] - 0s 3ms/step - loss: 0.0609 - mae: 0.1911 - val_loss: 0.1621 - val_mae: 0.3092\n",
      "Epoch 20/200\n",
      "32/32 [==============================] - 0s 3ms/step - loss: 0.0640 - mae: 0.1898 - val_loss: 0.1518 - val_mae: 0.2969\n",
      "Epoch 21/200\n",
      "32/32 [==============================] - 0s 3ms/step - loss: 0.0581 - mae: 0.1898 - val_loss: 0.1550 - val_mae: 0.2889\n",
      "Epoch 22/200\n",
      "32/32 [==============================] - 0s 4ms/step - loss: 0.0552 - mae: 0.1790 - val_loss: 0.1647 - val_mae: 0.3112\n",
      "Epoch 23/200\n",
      "32/32 [==============================] - 0s 3ms/step - loss: 0.0564 - mae: 0.1812 - val_loss: 0.2051 - val_mae: 0.3429\n",
      "Epoch 24/200\n",
      "32/32 [==============================] - 0s 3ms/step - loss: 0.0700 - mae: 0.2051 - val_loss: 0.1514 - val_mae: 0.3013\n",
      "Epoch 25/200\n",
      "32/32 [==============================] - 0s 3ms/step - loss: 0.0571 - mae: 0.1803 - val_loss: 0.1434 - val_mae: 0.2831\n",
      "Epoch 26/200\n",
      "32/32 [==============================] - 0s 4ms/step - loss: 0.0520 - mae: 0.1707 - val_loss: 0.1584 - val_mae: 0.2956\n",
      "Epoch 27/200\n",
      "32/32 [==============================] - 0s 3ms/step - loss: 0.0596 - mae: 0.1828 - val_loss: 0.1587 - val_mae: 0.3008\n",
      "Epoch 28/200\n",
      "32/32 [==============================] - 0s 3ms/step - loss: 0.0676 - mae: 0.2032 - val_loss: 0.1685 - val_mae: 0.3243\n",
      "Epoch 29/200\n",
      "32/32 [==============================] - 0s 3ms/step - loss: 0.0545 - mae: 0.1733 - val_loss: 0.1423 - val_mae: 0.2921\n",
      "Epoch 30/200\n",
      "32/32 [==============================] - 0s 3ms/step - loss: 0.0501 - mae: 0.1685 - val_loss: 0.1637 - val_mae: 0.3178\n",
      "Epoch 31/200\n",
      "32/32 [==============================] - 0s 3ms/step - loss: 0.0539 - mae: 0.1766 - val_loss: 0.1382 - val_mae: 0.2807\n",
      "Epoch 32/200\n",
      "32/32 [==============================] - 0s 3ms/step - loss: 0.0625 - mae: 0.1827 - val_loss: 0.1312 - val_mae: 0.2750\n",
      "Epoch 33/200\n",
      "32/32 [==============================] - ETA: 0s - loss: 0.0305 - mae: 0.138 - 0s 3ms/step - loss: 0.0418 - mae: 0.1547 - val_loss: 0.1635 - val_mae: 0.2948\n",
      "Epoch 34/200\n",
      "32/32 [==============================] - 0s 3ms/step - loss: 0.0377 - mae: 0.1448 - val_loss: 0.1480 - val_mae: 0.2962\n",
      "Epoch 35/200\n",
      "32/32 [==============================] - 0s 3ms/step - loss: 0.0486 - mae: 0.1608 - val_loss: 0.1469 - val_mae: 0.2918\n",
      "Epoch 36/200\n",
      "32/32 [==============================] - 0s 3ms/step - loss: 0.0407 - mae: 0.1549 - val_loss: 0.1392 - val_mae: 0.2773\n",
      "Epoch 37/200\n",
      "32/32 [==============================] - 0s 3ms/step - loss: 0.0509 - mae: 0.1680 - val_loss: 0.1286 - val_mae: 0.2644\n",
      "Epoch 38/200\n",
      "32/32 [==============================] - 0s 3ms/step - loss: 0.0420 - mae: 0.1572 - val_loss: 0.1355 - val_mae: 0.2715\n",
      "Epoch 39/200\n",
      "32/32 [==============================] - 0s 3ms/step - loss: 0.0458 - mae: 0.1592 - val_loss: 0.1279 - val_mae: 0.2667\n",
      "Epoch 40/200\n",
      "32/32 [==============================] - 0s 3ms/step - loss: 0.0381 - mae: 0.1465 - val_loss: 0.1504 - val_mae: 0.2917\n",
      "Epoch 41/200\n",
      "32/32 [==============================] - 0s 3ms/step - loss: 0.0450 - mae: 0.1563 - val_loss: 0.1814 - val_mae: 0.3237\n",
      "Epoch 42/200\n",
      "32/32 [==============================] - 0s 3ms/step - loss: 0.0399 - mae: 0.1497 - val_loss: 0.1652 - val_mae: 0.3165\n",
      "Epoch 43/200\n",
      "32/32 [==============================] - 0s 3ms/step - loss: 0.0497 - mae: 0.1588 - val_loss: 0.1374 - val_mae: 0.2752\n",
      "Epoch 44/200\n",
      "32/32 [==============================] - 0s 3ms/step - loss: 0.0382 - mae: 0.1428 - val_loss: 0.1263 - val_mae: 0.2679\n",
      "Epoch 45/200\n",
      "32/32 [==============================] - 0s 3ms/step - loss: 0.0478 - mae: 0.1630 - val_loss: 0.1294 - val_mae: 0.2740\n",
      "Epoch 46/200\n",
      "32/32 [==============================] - 0s 4ms/step - loss: 0.0359 - mae: 0.1431 - val_loss: 0.1385 - val_mae: 0.2633\n",
      "Epoch 47/200\n",
      "32/32 [==============================] - 0s 3ms/step - loss: 0.0453 - mae: 0.1554 - val_loss: 0.1768 - val_mae: 0.3047\n",
      "Epoch 48/200\n",
      "32/32 [==============================] - 0s 3ms/step - loss: 0.0424 - mae: 0.1552 - val_loss: 0.1292 - val_mae: 0.2699\n",
      "Epoch 49/200\n",
      "32/32 [==============================] - 0s 3ms/step - loss: 0.0387 - mae: 0.1489 - val_loss: 0.1477 - val_mae: 0.2884\n",
      "Epoch 50/200\n",
      "32/32 [==============================] - 0s 3ms/step - loss: 0.0328 - mae: 0.1381 - val_loss: 0.1321 - val_mae: 0.2754\n",
      "Epoch 51/200\n",
      "32/32 [==============================] - 0s 3ms/step - loss: 0.0358 - mae: 0.1412 - val_loss: 0.1208 - val_mae: 0.2539\n",
      "Epoch 52/200\n",
      "32/32 [==============================] - 0s 3ms/step - loss: 0.0433 - mae: 0.1501 - val_loss: 0.1192 - val_mae: 0.2598\n",
      "Epoch 53/200\n",
      "32/32 [==============================] - 0s 3ms/step - loss: 0.0286 - mae: 0.1215 - val_loss: 0.1255 - val_mae: 0.2601\n",
      "Epoch 54/200\n",
      "32/32 [==============================] - 0s 2ms/step - loss: 0.0356 - mae: 0.1374 - val_loss: 0.1414 - val_mae: 0.2884\n",
      "Epoch 55/200\n",
      "32/32 [==============================] - 0s 3ms/step - loss: 0.0301 - mae: 0.1288 - val_loss: 0.1600 - val_mae: 0.3000\n",
      "Epoch 56/200\n",
      "32/32 [==============================] - 0s 2ms/step - loss: 0.0474 - mae: 0.1582 - val_loss: 0.1343 - val_mae: 0.2775\n",
      "Epoch 57/200\n",
      "32/32 [==============================] - 0s 3ms/step - loss: 0.0326 - mae: 0.1283 - val_loss: 0.1233 - val_mae: 0.2586\n",
      "Epoch 58/200\n",
      "32/32 [==============================] - 0s 4ms/step - loss: 0.0313 - mae: 0.1300 - val_loss: 0.1718 - val_mae: 0.2954\n",
      "Epoch 59/200\n",
      "32/32 [==============================] - 0s 4ms/step - loss: 0.0366 - mae: 0.1335 - val_loss: 0.1616 - val_mae: 0.2973\n",
      "Epoch 60/200\n",
      "32/32 [==============================] - 0s 3ms/step - loss: 0.0368 - mae: 0.1354 - val_loss: 0.1468 - val_mae: 0.2927\n",
      "Epoch 61/200\n",
      "32/32 [==============================] - 0s 3ms/step - loss: 0.0328 - mae: 0.1361 - val_loss: 0.1215 - val_mae: 0.2525\n",
      "Epoch 62/200\n",
      "32/32 [==============================] - 0s 3ms/step - loss: 0.0343 - mae: 0.1311 - val_loss: 0.1263 - val_mae: 0.2624\n"
     ]
    },
    {
     "name": "stdout",
     "output_type": "stream",
     "text": [
      "Epoch 63/200\n",
      "32/32 [==============================] - 0s 3ms/step - loss: 0.0289 - mae: 0.1206 - val_loss: 0.1191 - val_mae: 0.2556\n",
      "Epoch 64/200\n",
      "32/32 [==============================] - 0s 3ms/step - loss: 0.0321 - mae: 0.1311 - val_loss: 0.1126 - val_mae: 0.2413\n",
      "Epoch 65/200\n",
      "32/32 [==============================] - 0s 3ms/step - loss: 0.0333 - mae: 0.1294 - val_loss: 0.1169 - val_mae: 0.2461\n",
      "Epoch 66/200\n",
      "32/32 [==============================] - 0s 3ms/step - loss: 0.0317 - mae: 0.1286 - val_loss: 0.1209 - val_mae: 0.2529\n",
      "Epoch 67/200\n",
      "32/32 [==============================] - 0s 3ms/step - loss: 0.0306 - mae: 0.1211 - val_loss: 0.1359 - val_mae: 0.2736\n",
      "Epoch 68/200\n",
      "32/32 [==============================] - 0s 2ms/step - loss: 0.0368 - mae: 0.1392 - val_loss: 0.1302 - val_mae: 0.2645\n",
      "Epoch 69/200\n",
      "32/32 [==============================] - 0s 2ms/step - loss: 0.0334 - mae: 0.1254 - val_loss: 0.1256 - val_mae: 0.2614\n",
      "Epoch 70/200\n",
      "32/32 [==============================] - 0s 3ms/step - loss: 0.0331 - mae: 0.1362 - val_loss: 0.1256 - val_mae: 0.2649\n",
      "Epoch 71/200\n",
      "32/32 [==============================] - 0s 2ms/step - loss: 0.0259 - mae: 0.1150 - val_loss: 0.1111 - val_mae: 0.2454\n",
      "Epoch 72/200\n",
      "32/32 [==============================] - 0s 2ms/step - loss: 0.0260 - mae: 0.1149 - val_loss: 0.1235 - val_mae: 0.2542\n",
      "Epoch 73/200\n",
      "32/32 [==============================] - 0s 2ms/step - loss: 0.0389 - mae: 0.1341 - val_loss: 0.1229 - val_mae: 0.2524\n",
      "Epoch 74/200\n",
      "32/32 [==============================] - 0s 3ms/step - loss: 0.0295 - mae: 0.1223 - val_loss: 0.1157 - val_mae: 0.2476\n",
      "Epoch 75/200\n",
      "32/32 [==============================] - 0s 3ms/step - loss: 0.0277 - mae: 0.1194 - val_loss: 0.1261 - val_mae: 0.2646\n",
      "Epoch 76/200\n",
      "32/32 [==============================] - 0s 3ms/step - loss: 0.0331 - mae: 0.1300 - val_loss: 0.1398 - val_mae: 0.2787\n",
      "Epoch 77/200\n",
      "32/32 [==============================] - 0s 3ms/step - loss: 0.0309 - mae: 0.1261 - val_loss: 0.1321 - val_mae: 0.2585\n",
      "Epoch 78/200\n",
      "32/32 [==============================] - 0s 4ms/step - loss: 0.0410 - mae: 0.1438 - val_loss: 0.1225 - val_mae: 0.2623\n",
      "Epoch 79/200\n",
      "32/32 [==============================] - 0s 3ms/step - loss: 0.0309 - mae: 0.1311 - val_loss: 0.1218 - val_mae: 0.2611\n",
      "Epoch 80/200\n",
      "32/32 [==============================] - 0s 2ms/step - loss: 0.0273 - mae: 0.1192 - val_loss: 0.1281 - val_mae: 0.2644\n",
      "Epoch 81/200\n",
      "32/32 [==============================] - 0s 2ms/step - loss: 0.0317 - mae: 0.1277 - val_loss: 0.1151 - val_mae: 0.2559\n",
      "Epoch 82/200\n",
      "32/32 [==============================] - 0s 2ms/step - loss: 0.0289 - mae: 0.1202 - val_loss: 0.1442 - val_mae: 0.2967\n",
      "Epoch 83/200\n",
      "32/32 [==============================] - 0s 2ms/step - loss: 0.0316 - mae: 0.1349 - val_loss: 0.1169 - val_mae: 0.2550\n",
      "Epoch 84/200\n",
      "32/32 [==============================] - 0s 3ms/step - loss: 0.0278 - mae: 0.1198 - val_loss: 0.1438 - val_mae: 0.2679\n",
      "Epoch 85/200\n",
      "32/32 [==============================] - 0s 3ms/step - loss: 0.0353 - mae: 0.1356 - val_loss: 0.1216 - val_mae: 0.2484\n",
      "Epoch 86/200\n",
      "32/32 [==============================] - 0s 3ms/step - loss: 0.0237 - mae: 0.1160 - val_loss: 0.1615 - val_mae: 0.3068\n",
      "Epoch 87/200\n",
      "32/32 [==============================] - 0s 3ms/step - loss: 0.0303 - mae: 0.1233 - val_loss: 0.1302 - val_mae: 0.2595\n",
      "Epoch 88/200\n",
      "32/32 [==============================] - 0s 2ms/step - loss: 0.0315 - mae: 0.1313 - val_loss: 0.1214 - val_mae: 0.2538\n",
      "Epoch 89/200\n",
      "32/32 [==============================] - 0s 2ms/step - loss: 0.0292 - mae: 0.1187 - val_loss: 0.1199 - val_mae: 0.2564\n",
      "Epoch 90/200\n",
      "32/32 [==============================] - 0s 3ms/step - loss: 0.0368 - mae: 0.1328 - val_loss: 0.1441 - val_mae: 0.2923\n",
      "Epoch 91/200\n",
      "32/32 [==============================] - 0s 2ms/step - loss: 0.0331 - mae: 0.1287 - val_loss: 0.1190 - val_mae: 0.2512\n",
      "Epoch 92/200\n",
      "32/32 [==============================] - 0s 2ms/step - loss: 0.0241 - mae: 0.1101 - val_loss: 0.1355 - val_mae: 0.2634\n",
      "Epoch 93/200\n",
      "32/32 [==============================] - 0s 2ms/step - loss: 0.0458 - mae: 0.1427 - val_loss: 0.1173 - val_mae: 0.2593\n",
      "Epoch 94/200\n",
      "32/32 [==============================] - 0s 2ms/step - loss: 0.0230 - mae: 0.1123 - val_loss: 0.1191 - val_mae: 0.2513\n",
      "Epoch 95/200\n",
      "32/32 [==============================] - 0s 3ms/step - loss: 0.0367 - mae: 0.1291 - val_loss: 0.1182 - val_mae: 0.2471\n",
      "Epoch 96/200\n",
      "32/32 [==============================] - 0s 3ms/step - loss: 0.0210 - mae: 0.1031 - val_loss: 0.1240 - val_mae: 0.2548\n",
      "Epoch 97/200\n",
      "32/32 [==============================] - 0s 4ms/step - loss: 0.0312 - mae: 0.1259 - val_loss: 0.1164 - val_mae: 0.2506\n",
      "Epoch 98/200\n",
      "32/32 [==============================] - 0s 3ms/step - loss: 0.0286 - mae: 0.1218 - val_loss: 0.1195 - val_mae: 0.2559\n",
      "Epoch 99/200\n",
      "32/32 [==============================] - 0s 3ms/step - loss: 0.0266 - mae: 0.1093 - val_loss: 0.1253 - val_mae: 0.2639\n",
      "Epoch 100/200\n",
      "32/32 [==============================] - 0s 3ms/step - loss: 0.0324 - mae: 0.1269 - val_loss: 0.1081 - val_mae: 0.2365\n",
      "Epoch 101/200\n",
      "32/32 [==============================] - 0s 3ms/step - loss: 0.0272 - mae: 0.1177 - val_loss: 0.1265 - val_mae: 0.2542\n",
      "Epoch 102/200\n",
      "32/32 [==============================] - 0s 3ms/step - loss: 0.0308 - mae: 0.1285 - val_loss: 0.1237 - val_mae: 0.2583\n",
      "Epoch 103/200\n",
      "32/32 [==============================] - 0s 3ms/step - loss: 0.0258 - mae: 0.1136 - val_loss: 0.1170 - val_mae: 0.2387\n",
      "Epoch 104/200\n",
      "32/32 [==============================] - 0s 3ms/step - loss: 0.0233 - mae: 0.1075 - val_loss: 0.1311 - val_mae: 0.2689\n",
      "Epoch 105/200\n",
      "32/32 [==============================] - 0s 4ms/step - loss: 0.0304 - mae: 0.1167 - val_loss: 0.1228 - val_mae: 0.2598\n",
      "Epoch 106/200\n",
      "32/32 [==============================] - 0s 4ms/step - loss: 0.0282 - mae: 0.1097 - val_loss: 0.1197 - val_mae: 0.2489\n",
      "Epoch 107/200\n",
      "32/32 [==============================] - 0s 3ms/step - loss: 0.0294 - mae: 0.1185 - val_loss: 0.1330 - val_mae: 0.2707\n",
      "Epoch 108/200\n",
      "32/32 [==============================] - 0s 3ms/step - loss: 0.0323 - mae: 0.1203 - val_loss: 0.1346 - val_mae: 0.2699\n",
      "Epoch 109/200\n",
      "32/32 [==============================] - 0s 3ms/step - loss: 0.0301 - mae: 0.1195 - val_loss: 0.1139 - val_mae: 0.2494\n",
      "Epoch 110/200\n",
      "32/32 [==============================] - 0s 3ms/step - loss: 0.0241 - mae: 0.1102 - val_loss: 0.1193 - val_mae: 0.2572\n",
      "Epoch 111/200\n",
      "32/32 [==============================] - 0s 3ms/step - loss: 0.0296 - mae: 0.1241 - val_loss: 0.1429 - val_mae: 0.2684\n",
      "Epoch 112/200\n",
      "32/32 [==============================] - 0s 3ms/step - loss: 0.0303 - mae: 0.1202 - val_loss: 0.1284 - val_mae: 0.2710\n",
      "Epoch 113/200\n",
      "32/32 [==============================] - 0s 3ms/step - loss: 0.0255 - mae: 0.1102 - val_loss: 0.1115 - val_mae: 0.2412\n",
      "Epoch 114/200\n",
      "32/32 [==============================] - 0s 2ms/step - loss: 0.0211 - mae: 0.1032 - val_loss: 0.1195 - val_mae: 0.2494\n",
      "Epoch 115/200\n",
      "32/32 [==============================] - 0s 3ms/step - loss: 0.0245 - mae: 0.1085 - val_loss: 0.1313 - val_mae: 0.2705\n",
      "Epoch 116/200\n",
      "32/32 [==============================] - 0s 2ms/step - loss: 0.0304 - mae: 0.1235 - val_loss: 0.1504 - val_mae: 0.2853\n",
      "Epoch 117/200\n",
      "32/32 [==============================] - 0s 3ms/step - loss: 0.0338 - mae: 0.1254 - val_loss: 0.1321 - val_mae: 0.2635\n",
      "Epoch 118/200\n",
      "32/32 [==============================] - 0s 3ms/step - loss: 0.0259 - mae: 0.1070 - val_loss: 0.1134 - val_mae: 0.2434\n",
      "Epoch 119/200\n",
      "32/32 [==============================] - 0s 3ms/step - loss: 0.0265 - mae: 0.1132 - val_loss: 0.1135 - val_mae: 0.2439\n",
      "Epoch 120/200\n",
      "32/32 [==============================] - 0s 3ms/step - loss: 0.0200 - mae: 0.0996 - val_loss: 0.1223 - val_mae: 0.2621\n",
      "Epoch 121/200\n",
      "32/32 [==============================] - 0s 3ms/step - loss: 0.0323 - mae: 0.1159 - val_loss: 0.1224 - val_mae: 0.2515\n",
      "Epoch 122/200\n",
      "32/32 [==============================] - 0s 3ms/step - loss: 0.0228 - mae: 0.1061 - val_loss: 0.1247 - val_mae: 0.2612\n",
      "Epoch 123/200\n",
      "32/32 [==============================] - 0s 3ms/step - loss: 0.0205 - mae: 0.0986 - val_loss: 0.1178 - val_mae: 0.2433\n",
      "Epoch 124/200\n",
      "32/32 [==============================] - 0s 3ms/step - loss: 0.0248 - mae: 0.1093 - val_loss: 0.1244 - val_mae: 0.2489\n"
     ]
    },
    {
     "name": "stdout",
     "output_type": "stream",
     "text": [
      "Epoch 125/200\n",
      "32/32 [==============================] - 0s 3ms/step - loss: 0.0226 - mae: 0.1061 - val_loss: 0.1271 - val_mae: 0.2571\n",
      "Epoch 126/200\n",
      "32/32 [==============================] - 0s 2ms/step - loss: 0.0260 - mae: 0.1164 - val_loss: 0.1251 - val_mae: 0.2554\n",
      "Epoch 127/200\n",
      "32/32 [==============================] - 0s 3ms/step - loss: 0.0294 - mae: 0.1140 - val_loss: 0.1177 - val_mae: 0.2505\n",
      "Epoch 128/200\n",
      "32/32 [==============================] - 0s 3ms/step - loss: 0.0234 - mae: 0.1098 - val_loss: 0.1320 - val_mae: 0.2628\n",
      "Epoch 129/200\n",
      "32/32 [==============================] - 0s 2ms/step - loss: 0.0209 - mae: 0.1033 - val_loss: 0.1169 - val_mae: 0.2409\n",
      "Epoch 130/200\n",
      "32/32 [==============================] - 0s 3ms/step - loss: 0.0344 - mae: 0.1232 - val_loss: 0.1204 - val_mae: 0.2479\n",
      "Epoch 131/200\n",
      "32/32 [==============================] - 0s 3ms/step - loss: 0.0200 - mae: 0.1007 - val_loss: 0.1254 - val_mae: 0.2469\n",
      "Epoch 132/200\n",
      "32/32 [==============================] - 0s 3ms/step - loss: 0.0229 - mae: 0.1068 - val_loss: 0.1176 - val_mae: 0.2499\n",
      "Epoch 133/200\n",
      "32/32 [==============================] - 0s 3ms/step - loss: 0.0232 - mae: 0.1022 - val_loss: 0.1177 - val_mae: 0.2603\n",
      "Epoch 134/200\n",
      "32/32 [==============================] - 0s 3ms/step - loss: 0.0237 - mae: 0.1090 - val_loss: 0.1308 - val_mae: 0.2588\n",
      "Epoch 135/200\n",
      "32/32 [==============================] - 0s 3ms/step - loss: 0.0202 - mae: 0.1053 - val_loss: 0.1316 - val_mae: 0.2679\n",
      "Epoch 136/200\n",
      "32/32 [==============================] - 0s 2ms/step - loss: 0.0181 - mae: 0.0987 - val_loss: 0.1172 - val_mae: 0.2461\n",
      "Epoch 137/200\n",
      "32/32 [==============================] - 0s 3ms/step - loss: 0.0300 - mae: 0.1158 - val_loss: 0.1151 - val_mae: 0.2490\n",
      "Epoch 138/200\n",
      "32/32 [==============================] - 0s 3ms/step - loss: 0.0227 - mae: 0.1059 - val_loss: 0.1177 - val_mae: 0.2403\n",
      "Epoch 139/200\n",
      "32/32 [==============================] - 0s 2ms/step - loss: 0.0252 - mae: 0.1078 - val_loss: 0.1155 - val_mae: 0.2448\n",
      "Epoch 140/200\n",
      "32/32 [==============================] - 0s 2ms/step - loss: 0.0243 - mae: 0.1043 - val_loss: 0.1233 - val_mae: 0.2608\n",
      "Epoch 141/200\n",
      "32/32 [==============================] - 0s 2ms/step - loss: 0.0198 - mae: 0.0995 - val_loss: 0.1145 - val_mae: 0.2409\n",
      "Epoch 142/200\n",
      "32/32 [==============================] - 0s 3ms/step - loss: 0.0182 - mae: 0.0974 - val_loss: 0.1209 - val_mae: 0.2559\n",
      "Epoch 143/200\n",
      "32/32 [==============================] - 0s 3ms/step - loss: 0.0255 - mae: 0.1065 - val_loss: 0.1210 - val_mae: 0.2538\n",
      "Epoch 144/200\n",
      "32/32 [==============================] - 0s 2ms/step - loss: 0.0248 - mae: 0.1082 - val_loss: 0.1093 - val_mae: 0.2376\n",
      "Epoch 145/200\n",
      "32/32 [==============================] - 0s 2ms/step - loss: 0.0244 - mae: 0.1070 - val_loss: 0.1237 - val_mae: 0.2505\n",
      "Epoch 146/200\n",
      "32/32 [==============================] - 0s 3ms/step - loss: 0.0179 - mae: 0.0937 - val_loss: 0.1209 - val_mae: 0.2487\n",
      "Epoch 147/200\n",
      "32/32 [==============================] - 0s 3ms/step - loss: 0.0269 - mae: 0.1102 - val_loss: 0.1262 - val_mae: 0.2745\n",
      "Epoch 148/200\n",
      "32/32 [==============================] - 0s 3ms/step - loss: 0.0196 - mae: 0.1029 - val_loss: 0.1259 - val_mae: 0.2558\n",
      "Epoch 149/200\n",
      "32/32 [==============================] - 0s 2ms/step - loss: 0.0241 - mae: 0.1061 - val_loss: 0.1205 - val_mae: 0.2605\n",
      "Epoch 150/200\n",
      "32/32 [==============================] - 0s 3ms/step - loss: 0.0211 - mae: 0.0984 - val_loss: 0.1214 - val_mae: 0.2468\n",
      "Epoch 151/200\n",
      "32/32 [==============================] - 0s 3ms/step - loss: 0.0161 - mae: 0.0891 - val_loss: 0.1130 - val_mae: 0.2373\n",
      "Epoch 152/200\n",
      "32/32 [==============================] - 0s 2ms/step - loss: 0.0221 - mae: 0.1023 - val_loss: 0.1190 - val_mae: 0.2490\n",
      "Epoch 153/200\n",
      "32/32 [==============================] - 0s 3ms/step - loss: 0.0223 - mae: 0.1037 - val_loss: 0.1097 - val_mae: 0.2479\n",
      "Epoch 154/200\n",
      "32/32 [==============================] - 0s 3ms/step - loss: 0.0225 - mae: 0.1028 - val_loss: 0.1268 - val_mae: 0.2622\n",
      "Epoch 155/200\n",
      "32/32 [==============================] - 0s 3ms/step - loss: 0.0207 - mae: 0.1043 - val_loss: 0.1272 - val_mae: 0.2625\n",
      "Epoch 156/200\n",
      "32/32 [==============================] - 0s 3ms/step - loss: 0.0220 - mae: 0.0981 - val_loss: 0.1096 - val_mae: 0.2386\n",
      "Epoch 157/200\n",
      "32/32 [==============================] - 0s 2ms/step - loss: 0.0177 - mae: 0.0882 - val_loss: 0.1179 - val_mae: 0.2417\n",
      "Epoch 158/200\n",
      "32/32 [==============================] - 0s 3ms/step - loss: 0.0214 - mae: 0.1020 - val_loss: 0.1216 - val_mae: 0.2460\n",
      "Epoch 159/200\n",
      "32/32 [==============================] - 0s 3ms/step - loss: 0.0199 - mae: 0.0961 - val_loss: 0.1299 - val_mae: 0.2529\n",
      "Epoch 160/200\n",
      "32/32 [==============================] - 0s 3ms/step - loss: 0.0232 - mae: 0.1020 - val_loss: 0.1274 - val_mae: 0.2581\n",
      "Epoch 161/200\n",
      "32/32 [==============================] - 0s 3ms/step - loss: 0.0195 - mae: 0.0958 - val_loss: 0.1171 - val_mae: 0.2451\n",
      "Epoch 162/200\n",
      "32/32 [==============================] - 0s 4ms/step - loss: 0.0184 - mae: 0.0932 - val_loss: 0.1184 - val_mae: 0.2478\n",
      "Epoch 163/200\n",
      "32/32 [==============================] - 0s 3ms/step - loss: 0.0169 - mae: 0.0913 - val_loss: 0.1238 - val_mae: 0.2624\n",
      "Epoch 164/200\n",
      "32/32 [==============================] - 0s 3ms/step - loss: 0.0199 - mae: 0.0975 - val_loss: 0.1264 - val_mae: 0.2657\n",
      "Epoch 165/200\n",
      "32/32 [==============================] - 0s 3ms/step - loss: 0.0215 - mae: 0.1000 - val_loss: 0.1355 - val_mae: 0.2702\n",
      "Epoch 166/200\n",
      "32/32 [==============================] - 0s 3ms/step - loss: 0.0289 - mae: 0.1072 - val_loss: 0.1094 - val_mae: 0.2374\n",
      "Epoch 167/200\n",
      "32/32 [==============================] - 0s 3ms/step - loss: 0.0161 - mae: 0.0838 - val_loss: 0.1326 - val_mae: 0.2701\n",
      "Epoch 168/200\n",
      "32/32 [==============================] - 0s 3ms/step - loss: 0.0260 - mae: 0.1051 - val_loss: 0.1188 - val_mae: 0.2510\n",
      "Epoch 169/200\n",
      "32/32 [==============================] - 0s 3ms/step - loss: 0.0217 - mae: 0.0962 - val_loss: 0.1127 - val_mae: 0.2457\n",
      "Epoch 170/200\n",
      "32/32 [==============================] - 0s 3ms/step - loss: 0.0225 - mae: 0.1001 - val_loss: 0.1154 - val_mae: 0.2433\n",
      "Epoch 171/200\n",
      "32/32 [==============================] - 0s 3ms/step - loss: 0.0186 - mae: 0.0881 - val_loss: 0.1118 - val_mae: 0.2368\n",
      "Epoch 172/200\n",
      "32/32 [==============================] - 0s 3ms/step - loss: 0.0206 - mae: 0.0962 - val_loss: 0.1227 - val_mae: 0.2563\n",
      "Epoch 173/200\n",
      "32/32 [==============================] - 0s 3ms/step - loss: 0.0170 - mae: 0.0919 - val_loss: 0.1071 - val_mae: 0.2300\n",
      "Epoch 174/200\n",
      "32/32 [==============================] - 0s 3ms/step - loss: 0.0203 - mae: 0.0952 - val_loss: 0.1055 - val_mae: 0.2299\n",
      "Epoch 175/200\n",
      "32/32 [==============================] - 0s 3ms/step - loss: 0.0173 - mae: 0.0965 - val_loss: 0.1099 - val_mae: 0.2374\n",
      "Epoch 176/200\n",
      "32/32 [==============================] - 0s 3ms/step - loss: 0.0185 - mae: 0.0917 - val_loss: 0.1193 - val_mae: 0.2506\n",
      "Epoch 177/200\n",
      "32/32 [==============================] - 0s 3ms/step - loss: 0.0169 - mae: 0.0945 - val_loss: 0.1137 - val_mae: 0.2361\n",
      "Epoch 178/200\n",
      "32/32 [==============================] - 0s 3ms/step - loss: 0.0205 - mae: 0.0964 - val_loss: 0.1305 - val_mae: 0.2684\n",
      "Epoch 179/200\n",
      "32/32 [==============================] - 0s 2ms/step - loss: 0.0184 - mae: 0.0972 - val_loss: 0.1201 - val_mae: 0.2441\n",
      "Epoch 180/200\n",
      "32/32 [==============================] - 0s 3ms/step - loss: 0.0233 - mae: 0.0985 - val_loss: 0.1165 - val_mae: 0.2348\n",
      "Epoch 181/200\n",
      "32/32 [==============================] - 0s 3ms/step - loss: 0.0278 - mae: 0.1054 - val_loss: 0.1143 - val_mae: 0.2340\n",
      "Epoch 182/200\n",
      "32/32 [==============================] - 0s 3ms/step - loss: 0.0164 - mae: 0.0892 - val_loss: 0.1205 - val_mae: 0.2565\n",
      "Epoch 183/200\n",
      "32/32 [==============================] - 0s 3ms/step - loss: 0.0215 - mae: 0.1004 - val_loss: 0.1180 - val_mae: 0.2420\n",
      "Epoch 184/200\n",
      "32/32 [==============================] - 0s 3ms/step - loss: 0.0229 - mae: 0.0988 - val_loss: 0.1181 - val_mae: 0.2619\n",
      "Epoch 185/200\n",
      "32/32 [==============================] - 0s 3ms/step - loss: 0.0177 - mae: 0.0970 - val_loss: 0.1145 - val_mae: 0.2392\n",
      "Epoch 186/200\n"
     ]
    },
    {
     "name": "stdout",
     "output_type": "stream",
     "text": [
      "32/32 [==============================] - 0s 3ms/step - loss: 0.0184 - mae: 0.0894 - val_loss: 0.1032 - val_mae: 0.2298\n",
      "Epoch 187/200\n",
      "32/32 [==============================] - 0s 3ms/step - loss: 0.0204 - mae: 0.0963 - val_loss: 0.1279 - val_mae: 0.2608\n",
      "Epoch 188/200\n",
      "32/32 [==============================] - 0s 2ms/step - loss: 0.0227 - mae: 0.1068 - val_loss: 0.1201 - val_mae: 0.2416\n",
      "Epoch 189/200\n",
      "32/32 [==============================] - 0s 3ms/step - loss: 0.0168 - mae: 0.0933 - val_loss: 0.1282 - val_mae: 0.2533\n",
      "Epoch 190/200\n",
      "32/32 [==============================] - 0s 3ms/step - loss: 0.0200 - mae: 0.0918 - val_loss: 0.1116 - val_mae: 0.2313\n",
      "Epoch 191/200\n",
      "32/32 [==============================] - 0s 3ms/step - loss: 0.0223 - mae: 0.0995 - val_loss: 0.1216 - val_mae: 0.2451\n",
      "Epoch 192/200\n",
      "32/32 [==============================] - 0s 3ms/step - loss: 0.0166 - mae: 0.0862 - val_loss: 0.1146 - val_mae: 0.2433\n",
      "Epoch 193/200\n",
      "32/32 [==============================] - 0s 3ms/step - loss: 0.0213 - mae: 0.0961 - val_loss: 0.1163 - val_mae: 0.2363\n",
      "Epoch 194/200\n",
      "32/32 [==============================] - 0s 3ms/step - loss: 0.0205 - mae: 0.1013 - val_loss: 0.1292 - val_mae: 0.2611\n",
      "Epoch 195/200\n",
      "32/32 [==============================] - 0s 2ms/step - loss: 0.0183 - mae: 0.0866 - val_loss: 0.1095 - val_mae: 0.2356\n",
      "Epoch 196/200\n",
      "32/32 [==============================] - 0s 3ms/step - loss: 0.0211 - mae: 0.0978 - val_loss: 0.1345 - val_mae: 0.2653\n",
      "Epoch 197/200\n",
      "32/32 [==============================] - 0s 2ms/step - loss: 0.0189 - mae: 0.0974 - val_loss: 0.1155 - val_mae: 0.2436\n",
      "Epoch 198/200\n",
      "32/32 [==============================] - 0s 3ms/step - loss: 0.0153 - mae: 0.0817 - val_loss: 0.1205 - val_mae: 0.2521\n",
      "Epoch 199/200\n",
      "32/32 [==============================] - 0s 3ms/step - loss: 0.0220 - mae: 0.0970 - val_loss: 0.1140 - val_mae: 0.2482\n",
      "Epoch 200/200\n",
      "32/32 [==============================] - 0s 3ms/step - loss: 0.0189 - mae: 0.0957 - val_loss: 0.1092 - val_mae: 0.2324\n"
     ]
    }
   ],
   "source": [
    "history = network.fit(X_train,Y_train,epochs=200,validation_split=0.3, batch_size = 16)"
   ]
  },
  {
   "cell_type": "code",
   "execution_count": 22,
   "metadata": {},
   "outputs": [
    {
     "data": {
      "text/plain": [
       "dict_keys(['loss', 'mae', 'val_loss', 'val_mae'])"
      ]
     },
     "execution_count": 22,
     "metadata": {},
     "output_type": "execute_result"
    }
   ],
   "source": [
    "history.history.keys()"
   ]
  },
  {
   "cell_type": "code",
   "execution_count": 23,
   "metadata": {
    "colab": {
     "base_uri": "https://localhost:8080/"
    },
    "id": "Dke-NeOQtJ7Z",
    "outputId": "c747742c-a35c-489d-910c-49aec973df25"
   },
   "outputs": [
    {
     "name": "stdout",
     "output_type": "stream",
     "text": [
      "10/10 [==============================] - 0s 1ms/step - loss: 0.1161 - mae: 0.2304\n"
     ]
    }
   ],
   "source": [
    "loss,mae=network.evaluate(X_test,Y_test)"
   ]
  },
  {
   "cell_type": "code",
   "execution_count": 24,
   "metadata": {
    "colab": {
     "base_uri": "https://localhost:8080/"
    },
    "id": "CtycpTWetRiZ",
    "outputId": "c3c53923-6128-448f-a0ac-68b30a6eabaa"
   },
   "outputs": [],
   "source": [
    "val_mae = history.history['val_mae']\n",
    "val_loss = history.history['val_loss']"
   ]
  },
  {
   "cell_type": "code",
   "execution_count": 25,
   "metadata": {},
   "outputs": [
    {
     "data": {
      "image/png": "[encoded data removed]",
      "text/plain": [
       "<Figure size 432x288 with 1 Axes>"
      ]
     },
     "metadata": {
      "needs_background": "light"
     },
     "output_type": "display_data"
    }
   ],
   "source": [
    "import matplotlib.pyplot as plt \n",
    "history_dict = history.history\n",
    "loss_values = history_dict['loss']\n",
    "val_loss_values = history_dict['val_loss']\n",
    "epochs = range(200)\n",
    "plt.plot(epochs, loss_values, 'bo', label='Training loss')\n",
    "plt.plot(epochs, val_loss_values, 'b', label='Validation loss')\n",
    "plt.title('Training and validation loss')\n",
    "plt.xlabel('Epochs')\n",
    "plt.ylabel('Loss')\n",
    "plt.legend()\n",
    "plt.show()"
   ]
  },
  {
   "cell_type": "code",
   "execution_count": 26,
   "metadata": {},
   "outputs": [
    {
     "data": {
      "image/png": "[encoded data removed]",
      "text/plain": [
       "<Figure size 432x288 with 1 Axes>"
      ]
     },
     "metadata": {
      "needs_background": "light"
     },
     "output_type": "display_data"
    }
   ],
   "source": [
    "import matplotlib.pyplot as plt \n",
    "acc_values = history_dict['mae']\n",
    "val_acc_values = history_dict['val_mae']\n",
    "plt.plot(epochs, acc_values, 'bo', label='Training mae')\n",
    "plt.plot(epochs, val_acc_values, 'b', label='Validation mae')\n",
    "plt.title('Training and validation accuracy')\n",
    "plt.xlabel('Epochs')\n",
    "plt.ylabel('mae')\n",
    "plt.legend()\n",
    "plt.show()"
   ]
  },
  {
   "cell_type": "code",
   "execution_count": 27,
   "metadata": {
    "id": "AiZJuEX1tXIa"
   },
   "outputs": [],
   "source": [
    "y_pred = network.predict(X_test)"
   ]
  },
  {
   "cell_type": "code",
   "execution_count": null,
   "metadata": {},
   "outputs": [],
   "source": []
  },
  {
   "cell_type": "code",
   "execution_count": 28,
   "metadata": {},
   "outputs": [],
   "source": [
    "def denorm(x):\n",
    "    return (x * Y_std) + Y_mean\n",
    "    "
   ]
  },
  {
   "cell_type": "code",
   "execution_count": 29,
   "metadata": {},
   "outputs": [],
   "source": [
    "y_pred = denorm(y_pred)"
   ]
  },
  {
   "cell_type": "code",
   "execution_count": 30,
   "metadata": {},
   "outputs": [],
   "source": [
    "y_true = denorm(Y_test)"
   ]
  },
  {
   "cell_type": "code",
   "execution_count": 31,
   "metadata": {},
   "outputs": [],
   "source": [
    "y_pred = y_pred.flatten()"
   ]
  },
  {
   "cell_type": "code",
   "execution_count": 32,
   "metadata": {},
   "outputs": [
    {
     "data": {
      "text/plain": [
       "(309,)"
      ]
     },
     "execution_count": 32,
     "metadata": {},
     "output_type": "execute_result"
    }
   ],
   "source": [
    "y_pred.shape"
   ]
  },
  {
   "cell_type": "code",
   "execution_count": 33,
   "metadata": {},
   "outputs": [
    {
     "data": {
      "text/plain": [
       "(309,)"
      ]
     },
     "execution_count": 33,
     "metadata": {},
     "output_type": "execute_result"
    }
   ],
   "source": [
    "y_true.shape"
   ]
  },
  {
   "cell_type": "code",
   "execution_count": 34,
   "metadata": {},
   "outputs": [
    {
     "data": {
      "text/plain": [
       "(0.0, 100.0)"
      ]
     },
     "execution_count": 34,
     "metadata": {},
     "output_type": "execute_result"
    },
    {
     "data": {
      "image/png": "[encoded data removed]",
      "text/plain": [
       "<Figure size 432x288 with 1 Axes>"
      ]
     },
     "metadata": {
      "needs_background": "light"
     },
     "output_type": "display_data"
    }
   ],
   "source": [
    "import numpy as np\n",
    "import matplotlib.pyplot as plt\n",
    "coef = np.polyfit(y_true,y_pred,1)\n",
    "poly1d_fn = np.poly1d(coef) \n",
    "# poly1d_fn is now a function which takes in x and returns an estimate for y\n",
    "plt.plot(y_true,y_pred, 'yo', y_true, poly1d_fn(y_true), '--k')\n",
    "plt.xlim(0, 100)\n",
    "plt.ylim(0, 100)"
   ]
  }
 ],
 "metadata": {
  "accelerator": "TPU",
  "colab": {
   "collapsed_sections": [],
   "name": "Concrete.ipynb",
   "provenance": [],
   "toc_visible": true
  },
  "kernelspec": {
   "display_name": "Python 3",
   "language": "python",
   "name": "python3"
  },
  "language_info": {
   "codemirror_mode": {
    "name": "ipython",
    "version": 3
   },
   "file_extension": ".py",
   "mimetype": "text/x-python",
   "name": "python",
   "nbconvert_exporter": "python",
   "pygments_lexer": "ipython3",
   "version": "3.8.5"
  }
 },
 "nbformat": 4,
 "nbformat_minor": 1
}
